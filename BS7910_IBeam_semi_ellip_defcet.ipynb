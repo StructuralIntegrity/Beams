{
  "nbformat": 4,
  "nbformat_minor": 0,
  "metadata": {
    "colab": {
      "name": "BS7910_IBeam_semi_ellip_defcet.ipynb",
      "version": "0.3.2",
      "provenance": [],
      "collapsed_sections": [],
      "toc_visible": true,
      "include_colab_link": true
    },
    "kernelspec": {
      "name": "python3",
      "display_name": "Python 3"
    }
  },
  "cells": [
    {
      "cell_type": "markdown",
      "metadata": {
        "id": "view-in-github",
        "colab_type": "text"
      },
      "source": [
        "<a href=\"https://colab.research.google.com/github/StructuralIntegrity/Beams/blob/master/BS7910_IBeam_semi_ellip_defcet.ipynb\" target=\"_parent\"><img src=\"https://colab.research.google.com/assets/colab-badge.svg\" alt=\"Open In Colab\"/></a>"
      ]
    },
    {
      "metadata": {
        "id": "55DV_jJcCc65",
        "colab_type": "text"
      },
      "cell_type": "markdown",
      "source": [
        "# BS7910:2013 - Engineering Critical Assessment\n",
        "## I-beam with weld centre solidification cracking Semi-Elliptical defect\n",
        "\n",
        "---\n",
        "\n",
        "\n",
        "\n",
        "***This code determines the critical crack length***"
      ]
    },
    {
      "metadata": {
        "id": "VM4stXIgCc6-",
        "colab_type": "text"
      },
      "cell_type": "markdown",
      "source": [
        "### Assumptions:\n",
        "* No misalignment due to the setup and symmetric welding process (double T-butt weld)\n",
        "* Finite element stresses from model of actual weld geomentry account for the stress concentrration effect and are input into the model\n",
        "* Material mismatch in parent and weld are insignificant to the fracture failure mode and plastic collapse mode due to the location of the defect in the weld centre\n",
        "* ***No subcritical crack growth*** by environmental factors or embrittlement such as intergranular corrosion attack, hydrogen embrittlement, or embrittlement in a hydrogen sulfide envrionment, stress-corrossion cracking etc.\n",
        "\n"
      ]
    },
    {
      "metadata": {
        "id": "q0tJiRsZCc7C",
        "colab_type": "text"
      },
      "cell_type": "markdown",
      "source": [
        "## Dependencies"
      ]
    },
    {
      "metadata": {
        "id": "2DbHaPFmCc7I",
        "colab_type": "code",
        "colab": {}
      },
      "cell_type": "code",
      "source": [
        "import numpy as np\n",
        "import matplotlib.pyplot as plt\n",
        "import pandas as pd"
      ],
      "execution_count": 0,
      "outputs": []
    },
    {
      "metadata": {
        "id": "lYraaXnZCc7P",
        "colab_type": "text"
      },
      "cell_type": "markdown",
      "source": [
        "## Stress Intensity Factor - Semi-Elliptical Surface Defect in Plate"
      ]
    },
    {
      "metadata": {
        "id": "AK2ZfgAJCc7S",
        "colab_type": "code",
        "colab": {}
      },
      "cell_type": "code",
      "source": [
        "def SIF_semi_ell_plate(a, c, B, W, Pm, Pb, primary=True): \n",
        "  #SIF for semielliptical surface defect in a finite plate BS7910 M.4.1.1-3 returns SIF for point\n",
        "  # at the deepest part of the semi-elliptical crack [KA] (semiminor axis) and edge of the\n",
        "  # crack [KB] (semi-major axis)\n",
        "  \n",
        "  ## code works for varying a or varying c, input a vector and scalar (either a or c)\n",
        "  ## under secondary load then: primary=False\n",
        "  \n",
        "  M=1\n",
        "  fw=np.sqrt(1/(np.cos(((np.pi*c)/W)*(a/B)**0.5)))\n",
        "\n",
        " \n",
        "  #--------------------------------------------------\n",
        "  #For the deepest point of crack: A\n",
        "  ## MEMBRANE\n",
        "  g=1.0\n",
        "  \n",
        "  if np.isscalar(a):\n",
        "    ftheta=np.piecewise(c,[a/(2*c) <= 0.5, a/(2*c) > 0.5],[1, lambda c: np.sqrt(c/a)])\n",
        "    \n",
        "  elif np.isscalar(c):\n",
        "    ftheta=np.piecewise(a,[a/(2*c) <= 0.5, a/(2*c) > 0.5],[1, lambda a: np.sqrt(c/a)])\n",
        "    \n",
        "  else:\n",
        "    print(\"Both a and c do not vary, check code\")\n",
        "\n",
        "    \n",
        "  if np.isscalar(a):\n",
        "    THETA=np.piecewise(c,[a/(2*c) <= 0.5, a/(2*c) > 0.5],[lambda c: np.sqrt(1+1.464*(a/c)**1.65), lambda c: np.sqrt(1+1.464*(c/a)**1.65)])\n",
        "    \n",
        "    M1=np.piecewise(c,[a/(2*c) <= 0.5, a/(2*c) > 0.5],[lambda c: 1.13-0.09*(a/c), lambda c: np.sqrt(c/a)*(1+0.04*(c/a))])\n",
        "    \n",
        "    M2=np.piecewise(c,[a/(2*c) <= 0.5, a/(2*c) > 0.5],[lambda c: (0.89/(0.2+(a/c)))-0.54, lambda c: 0.2*(c/a)**4])\n",
        "    \n",
        "    M3=np.piecewise(c,[a/(2*c) <= 0.5, a/(2*c) > 0.5],[lambda c: 0.5-1/(0.65+a/c)+14*(1-a/c)**24, lambda c: -0.11*(c/a)**4])\n",
        "        \n",
        "  elif np.isscalar(c):\n",
        "    THETA=np.piecewise(a,[a/(2*c) <= 0.5, a/(2*c) > 0.5],[lambda a: np.sqrt(1+1.464*(a/c)**1.65), lambda a: np.sqrt(1+1.464*(c/a)**1.65)])\n",
        "    \n",
        "    M1=np.piecewise(a,[a/(2*c) <= 0.5, a/(2*c) > 0.5],[lambda a: 1.13-0.09*(a/c), lambda a: np.sqrt(c/a)*(1+0.04*(c/a))])\n",
        "    \n",
        "    M2=np.piecewise(a,[a/(2*c) <= 0.5, a/(2*c) > 0.5],[lambda a: (0.89/(0.2+(a/c)))-0.54, lambda a: 0.2*(c/a)**4])\n",
        "    \n",
        "    M3=np.piecewise(a,[a/(2*c) <= 0.5, a/(2*c) > 0.5],[lambda a: 0.5-1/(0.65+a/c)+14*(1-a/c)**24, lambda a: -0.11*(c/a)**4])\n",
        "    \n",
        "  else:\n",
        "    print(\"Both a and c do not vary, check code\")\n",
        "  \n",
        "  Mm_A=(M1+M2*(a/B)**2+M3*(a/B)**4)*(g*ftheta)/THETA\n",
        "  \n",
        "  ## BENDING\n",
        "  \n",
        "  if np.isscalar(a):\n",
        "    q=np.piecewise(c,[a/(2*c) <= 0.5, a/(2*c) > 0.5],[lambda c: 0.2+(a/c)+0.6*(a/B), lambda c: 0.2 + (c/a)+0.6*(a/B)])\n",
        "    \n",
        "    G1=np.piecewise(c,[a/(2*c) <= 0.5, a/(2*c) > 0.5],[lambda c: -1.22-0.12*(a/c), lambda c: -2.11+0.77*(c/a)])\n",
        "    G2=np.piecewise(c,[a/(2*c) <= 0.5, a/(2*c) > 0.5],[lambda c: 0.55-1.05*(a/c)**0.75+0.47*(a/c)**1.5, lambda c: 0.55-0.72*(c/a)**0.75+0.14*(c/a)**1.5])\n",
        "    \n",
        "    H2=1+G1*(a/B)+G2*(a/B)**2\n",
        "    \n",
        "  elif np.isscalar(c):\n",
        "    q=np.piecewise(a,[a/(2*c) <= 0.5, a/(2*c) > 0.5],[lambda a: 0.2+(a/c)+0.6*(a/B), lambda a: 0.2 + (c/a)+0.6*(a/B)])\n",
        "    \n",
        "    G1=np.piecewise(a,[a/(2*c) <= 0.5, a/(2*c) > 0.5],[lambda a: -1.22-0.12*(a/c), lambda a: -2.11+0.77*(c/a)])\n",
        "    G2=np.piecewise(a,[a/(2*c) <= 0.5, a/(2*c) > 0.5],[lambda a: 0.55-1.05*(a/c)**0.75+0.47*(a/c)**1.5, lambda a: 0.55-0.72*(c/a)**0.75+0.14*(c/a)**1.5])\n",
        "    \n",
        "    H2=1+G1*(a/B)+G2*(a/B)**2\n",
        "    \n",
        "  else:\n",
        "    print(\"Both a and c do not vary, check code\")\n",
        "  \n",
        "  H=H2\n",
        "  Mb_A = H*Mm_A\n",
        "  \n",
        "  if primary:\n",
        "    YSig = fw*(Mm_A*Pm+Mb_A*Pb)\n",
        "  else:\n",
        "    YSig = Mm_A*Pm+Mb_A*Pb\n",
        "  \n",
        "  KA = YSig*np.sqrt(np.pi*a)\n",
        "  \n",
        "  \n",
        "  #-----------------------------------------------------------#\n",
        "\n",
        "  #For the ends of the crack: B\n",
        "  #MEMBRANE\n",
        "  if np.isscalar(a):\n",
        "    g=np.piecewise(c,[a/(2*c) <= 0.5, a/(2*c) > 0.5],[1.1 + 0.35*(a/B)**2, lambda c: 1.1 + 0.35*(c/a)*(a/B)**2])\n",
        "    ftheta=np.piecewise(c,[a/(2*c) <= 0.5, a/(2*c) > 0.5],[lambda c: np.sqrt(a/c), 1])\n",
        "  \n",
        "  elif np.isscalar(c):\n",
        "    g=np.piecewise(a,[a/(2*c) <= 0.5, a/(2*c) > 0.5],[1.1 + 0.35*(a/B)**2, lambda a: 1.1 + 0.35*(c/a)*(a/B)**2])\n",
        "    ftheta=np.piecewise(a,[a/(2*c) <= 0.5, a/(2*c) > 0.5],[lambda a: np.sqrt(a/c), 1])\n",
        "    \n",
        "  else:\n",
        "    print(\"Both a and c do not vary, check code\")\n",
        "    \n",
        "  if np.isscalar(a):\n",
        "    THETA=np.piecewise(c,[a/(2*c) <= 0.5, a/(2*c) > 0.5],[lambda c: np.sqrt(1+1.464*(a/c)**1.65), lambda c: np.sqrt(1+1.464*(c/a)**1.65)])\n",
        "    \n",
        "    M1=np.piecewise(c,[a/(2*c) <= 0.5, a/(2*c) > 0.5],[lambda c: 1.13-0.09*(a/c), lambda c: np.sqrt(c/a)*(1+0.04*(c/a))])\n",
        "    \n",
        "    M2=np.piecewise(c,[a/(2*c) <= 0.5, a/(2*c) > 0.5],[lambda c: (0.89/(0.2+(a/c)))-0.54, lambda c: 0.2*(c/a)**4])\n",
        "    \n",
        "    M3=np.piecewise(c,[a/(2*c) <= 0.5, a/(2*c) > 0.5],[lambda c: 0.5-1/(0.65+a/c)+14*(1-a/c)**24, lambda c: -0.11*(c/a)**4])\n",
        "        \n",
        "  elif np.isscalar(c):\n",
        "    THETA=np.piecewise(a,[a/(2*c) <= 0.5, a/(2*c) > 0.5],[lambda a: np.sqrt(1+1.464*(a/c)**1.65), lambda a: np.sqrt(1+1.464*(c/a)**1.65)])\n",
        "    \n",
        "    M1=np.piecewise(a,[a/(2*c) <= 0.5, a/(2*c) > 0.5],[lambda a: 1.13-0.09*(a/c), lambda a: np.sqrt(c/a)*(1+0.04*(c/a))])\n",
        "    \n",
        "    M2=np.piecewise(a,[a/(2*c) <= 0.5, a/(2*c) > 0.5],[lambda a: (0.89/(0.2+(a/c)))-0.54, lambda a: 0.2*(c/a)**4])\n",
        "    \n",
        "    M3=np.piecewise(a,[a/(2*c) <= 0.5, a/(2*c) > 0.5],[lambda a: 0.5-1/(0.65+a/c)+14*(1-a/c)**24, lambda a: -0.11*(c/a)**4])\n",
        "    \n",
        "  else:\n",
        "    print(\"Both a and c do not vary, check code\")\n",
        "  \n",
        "  \n",
        "  Mm_B=(M1+M2*(a/B)**2+M3*(a/B)**4)*(g*ftheta)/THETA\n",
        "  \n",
        "  ## BENDING\n",
        "  \n",
        "  if np.isscalar(a):\n",
        "        \n",
        "    H1=np.piecewise(c,[a/(2*c) <= 0.5, a/(2*c) > 0.5],[lambda c: 1-0.34*(a/B)-0.11*(a/c)*(a/B), lambda c: 1-(0.04+0.41*(c/a))*(a/B)+(0.55-1.93*(c/a)**0.75+1.38*(c/a)**1.5)*(a/B)**2])\n",
        "           \n",
        "  elif np.isscalar(c):\n",
        "        \n",
        "    H1=np.piecewise(a,[a/(2*c) <= 0.5, a/(2*c) > 0.5],[lambda a: 1-0.34*(a/B)-0.11*(a/c)*(a/B), lambda a: 1-(0.04+0.41*(c/a))*(a/B)+(0.55-1.93*(c/a)**0.75+1.38*(c/a)**1.5)*(a/B)**2])\n",
        "           \n",
        "  else:\n",
        "    print(\"Both a and c do not vary, check code\")\n",
        "  \n",
        "  H=H1\n",
        "  Mb_B = H*Mm_B\n",
        "  \n",
        "  if primary:\n",
        "    YSig = fw*(Mm_B*Pm+Mb_B*Pb)\n",
        "  else:\n",
        "    YSig = Mm_B*Pm+Mb_B*Pb\n",
        "  \n",
        "  KB = YSig*np.sqrt(np.pi*a)\n",
        "  \n",
        "  return KA, KB"
      ],
      "execution_count": 0,
      "outputs": []
    },
    {
      "metadata": {
        "id": "0fsjAVX5FvRC",
        "colab_type": "text"
      },
      "cell_type": "markdown",
      "source": [
        "![Defect Geometry](https://drive.google.com/uc?id=1d70WH5UCBkl29t0dkwkIZ2fo2mXZBkRo =600x)"
      ]
    },
    {
      "metadata": {
        "id": "9BHwR_yzCc7g",
        "colab_type": "text"
      },
      "cell_type": "markdown",
      "source": [
        "## Limit Load Solution - Semi-elliptical surface flaws in plates under combined tension and bending"
      ]
    },
    {
      "metadata": {
        "id": "NowIQvvBCc7j",
        "colab_type": "code",
        "colab": {}
      },
      "cell_type": "code",
      "source": [
        "def refStress_semiellsurfplate(a, c, B, W, Pm, Pb, pinned=False):\n",
        "  #BS7910:2013 EQ P.6.1\n",
        "  if np.isscalar(a):\n",
        "    alpha_dp=np.piecewise(c,[(2*(c+B)) <= W, (2*(c+B)) > W],[lambda c: (a/B)/(1+(B/c)), lambda c: (a/B)*((2*c)/W)])\n",
        "  \n",
        "  elif np.isscalar(c):\n",
        "    alpha_dp=np.piecewise(a,[(2*(c+B)) <= W, (2*(c+B)) > W],[lambda a: (a/B)/(1+(B/c)), lambda a: (a/B)*((2*c)/W)])\n",
        "    \n",
        "  else:\n",
        "    print(\"Both a and c do not vary, check code\")\n",
        "\n",
        "  if not pinned:\n",
        "      refStress=(Pb + np.sqrt(Pb**2 + 9 * Pm**2 * (1 - alpha_dp)**2))/(3 * (1 - alpha_dp)**2)\n",
        "  else:\n",
        "      refStress=(Pb + 3 * Pm * alpha_dp + np.sqrt((Pb + 3 * Pm * alpha_dp)**2 + 9 * Pm**2 * (1 - alpha_dp)**2))/(3 * (1 - alpha_dp)**2)\n",
        "  return refStress\n",
        "    "
      ],
      "execution_count": 0,
      "outputs": []
    },
    {
      "metadata": {
        "id": "FEX9fGYt0PX-",
        "colab_type": "text"
      },
      "cell_type": "markdown",
      "source": [
        "## Defect Characterisation"
      ]
    },
    {
      "metadata": {
        "id": "uz8EPIWuCc7a",
        "colab_type": "code",
        "outputId": "5824f2e9-0e8e-474c-c7b9-c2d018a43b9f",
        "colab": {
          "base_uri": "https://localhost:8080/",
          "height": 90
        }
      },
      "cell_type": "code",
      "source": [
        "B = np.cos(np.radians(45))*6e-3 #m\n",
        "\n",
        "W = 5.0 #m\n",
        "\n",
        "a = 3e-3 #m\n",
        "\n",
        "c = np.linspace(a, 15*a, 20 ) #m\n",
        "\n",
        "print('a=', a*1000, 'c=', c*1000, 'B=', B*1000, 'W=', W*1000, '[mm]')"
      ],
      "execution_count": 4,
      "outputs": [
        {
          "output_type": "stream",
          "text": [
            "a= 3.0 c= [ 3.          5.21052632  7.42105263  9.63157895 11.84210526 14.05263158\n",
            " 16.26315789 18.47368421 20.68421053 22.89473684 25.10526316 27.31578947\n",
            " 29.52631579 31.73684211 33.94736842 36.15789474 38.36842105 40.57894737\n",
            " 42.78947368 45.        ] B= 4.242640687119286 W= 5000.0 [mm]\n"
          ],
          "name": "stdout"
        }
      ]
    },
    {
      "metadata": {
        "id": "25B9soaFCc7p",
        "colab_type": "text"
      },
      "cell_type": "markdown",
      "source": [
        "## Material Parameters"
      ]
    },
    {
      "metadata": {
        "id": "I82csBe_OaW2",
        "colab_type": "text"
      },
      "cell_type": "markdown",
      "source": [
        "The following guide is given for sensitivity of mechanical properties for ferritic steels in BS7910\n",
        "![alt text](https://drive.google.com/uc?id=1qEeHmRsnnnhAoXqivfLn12LtYOsLoRet =500x)"
      ]
    },
    {
      "metadata": {
        "id": "V-kTLUXWJque",
        "colab_type": "text"
      },
      "cell_type": "markdown",
      "source": [
        "### Tensile Properties"
      ]
    },
    {
      "metadata": {
        "id": "nVV-mH4uCc7r",
        "colab_type": "code",
        "colab": {}
      },
      "cell_type": "code",
      "source": [
        "E = 206000 #MPa (from BS7910 p36)\n",
        "v = 0.3    # Poissson's ratio\n",
        "\n",
        "#Weld\n",
        "#-----------------\n",
        "YS_weld = 460 #MPa \n",
        "UTS_weld = 560 #MPa\n",
        "\n",
        "\n",
        "#Parent\n",
        "#-----------------\n",
        "YS_parent = 380 #MPa Assume Yeld Plateu with discontinuous yielding see BS7910 Table 4\n",
        "URS_parent = 400 #MPa"
      ],
      "execution_count": 0,
      "outputs": []
    },
    {
      "metadata": {
        "id": "qDGTL5LVJtda",
        "colab_type": "text"
      },
      "cell_type": "markdown",
      "source": [
        "### Fracture Toughness of Weld"
      ]
    },
    {
      "metadata": {
        "id": "sDY46uozJxxx",
        "colab_type": "code",
        "outputId": "02315797-5f07-4fb3-ccf5-24a24e10db88",
        "colab": {
          "base_uri": "https://localhost:8080/",
          "height": 35
        }
      },
      "cell_type": "code",
      "source": [
        "#BS7910 Appendix J - Use of Weld Metal Charpy impact tests\n",
        "\n",
        "Cv = 84 #J   this the minimum value from test cert AUM1215S6\n",
        "\n",
        "Kmat_02 = np.sqrt((E*(0.53*Cv**1.28)*(0.2**(0.133*Cv**0.256)))/(1000*(1-v**2))) #BS7910 Eq. J.6\n",
        "\n",
        "Kmat = Kmat_02 #MPa.m^1/2\n",
        "\n",
        "print('Kmat=',Kmat)"
      ],
      "execution_count": 6,
      "outputs": [
        {
          "output_type": "stream",
          "text": [
            "Kmat= 133.83827499957397\n"
          ],
          "name": "stdout"
        }
      ]
    },
    {
      "metadata": {
        "id": "4mjvs17MCc7z",
        "colab_type": "text"
      },
      "cell_type": "markdown",
      "source": [
        "## Primary Stress\n",
        "This will be stress linearisation from Finite Elelement Model Analysis for various load cases"
      ]
    },
    {
      "metadata": {
        "id": "MHLBnZd_Cc70",
        "colab_type": "code",
        "colab": {}
      },
      "cell_type": "code",
      "source": [
        "Pm = 120 #MPa\n",
        "Pb = 0 #MPa"
      ],
      "execution_count": 0,
      "outputs": []
    },
    {
      "metadata": {
        "id": "ICBXtZsGCc78",
        "colab_type": "text"
      },
      "cell_type": "markdown",
      "source": [
        "## Secondary Stresses\n",
        "Only *weld transverse residual stress (RS)* is considered operable\n",
        "\n",
        "There is assumed to be:\n",
        "* no thermal stress\n",
        "* no stress from Eigen strains resulting from flattening post-process or from bending I-beam into an arch etc (plasticity variations in body)"
      ]
    },
    {
      "metadata": {
        "id": "VMABuYIqQfDZ",
        "colab_type": "text"
      },
      "cell_type": "markdown",
      "source": [
        " ### The following applies to the RS as per BS7910:\n",
        "|      |\n",
        "| ----- |\n",
        "| ![alt text](https://drive.google.com/uc?id=1LHMjg1xfGape1W5VHLlnbJEJn4wFkI4g =600x)  |\n"
      ]
    },
    {
      "metadata": {
        "id": "aeCa-sgTCc79",
        "colab_type": "code",
        "colab": {}
      },
      "cell_type": "code",
      "source": [
        "Qm = YS_parent #MPa\n",
        "Qb = 0.0 #MPa"
      ],
      "execution_count": 0,
      "outputs": []
    },
    {
      "metadata": {
        "id": "P1gWVBwLIm1W",
        "colab_type": "text"
      },
      "cell_type": "markdown",
      "source": [
        "## FAD Option 1\n",
        "* Material exhibiting discontinuous yielding"
      ]
    },
    {
      "metadata": {
        "id": "hGW6ONqVIswV",
        "colab_type": "code",
        "colab": {}
      },
      "cell_type": "code",
      "source": [
        "def FAD_1(E,YS,UTS,de,discon_yield = True):\n",
        "  # OPTION 1 FAD from BS7910\n",
        "  # NB: set de=0.0 for continuous yielding, YS is lower yield strength\n",
        "  \n",
        "  Lr_max=(YS+UTS)/(2*YS) # calc the cut off Lr\n",
        "  \n",
        "  FAD_Lr = np.linspace(0, Lr_max+0.1, 100 ) # generate Lr values for graphing\n",
        "  \n",
        "  mu = min(0.001*(E/YS),0.6)\n",
        "  N = 0.3*(1-YS/UTS)\n",
        "  \n",
        "  gamma = 1+(E*de)/YS\n",
        "  \n",
        "  if discon_yield:\n",
        "    FAD_Kr=np.piecewise(FAD_Lr,\n",
        "                        [FAD_Lr < 1,\n",
        "                         FAD_Lr == 1,\n",
        "                         FAD_Lr > 1,\n",
        "                         FAD_Lr > Lr_max],\n",
        "                        [lambda FAD_Lr: (1+1/2*FAD_Lr**2)**(-1/2),\n",
        "                         (gamma+1/(2*gamma))**(-1/2),\n",
        "                         lambda FAD_Lr: (gamma+1/(2*gamma))**(-1/2)*FAD_Lr**((N-1)/(2*N)),\n",
        "                         0.0 ])\n",
        "  else:\n",
        "    FAD_Kr=np.piecewise(FAD_Lr,\n",
        "                        [FAD_Lr <= 1,\n",
        "                         FAD_Lr > 1,\n",
        "                         FAD_Lr > Lr_max],\n",
        "                        [lambda FAD_Lr: (1+1/2*FAD_Lr**2)**(-1/2)*(0.3+0.7*np.exp(-mu*FAD_Lr**6)),\n",
        "                         (1+1/2*1.0**2)**(-1/2)*(0.3+0.7*np.exp(-mu*1.0**6))*FAD_Lr**((N-1)/(2*N)),\n",
        "                         0.0 ])\n",
        "  return FAD_Lr, FAD_Kr\n",
        "  "
      ],
      "execution_count": 0,
      "outputs": []
    },
    {
      "metadata": {
        "id": "twvRXfjyJZ2i",
        "colab_type": "text"
      },
      "cell_type": "markdown",
      "source": [
        "## Evaluation of Plasticity Interaction Effects -BS7910 Appendix R"
      ]
    },
    {
      "metadata": {
        "id": "RCObxiXP0HS5",
        "colab_type": "code",
        "colab": {}
      },
      "cell_type": "code",
      "source": [
        "\n",
        "\n",
        "def plasticity_interaction(K_p, K_s, Lr):\n",
        "  # NB: Valid for K_s/(K_p/Lr)<=4 ONLY\n",
        "  V1= 1+0.2*Lr+0.02*K_s*(Lr/K_p)*(1+2*Lr)\n",
        "  V2=np.piecewise(Lr, [Lr < 1.05, Lr >=1.05], [lambda Lr: (3.1-2*Lr),1])\n",
        "  V = np.minimum(V1,V2)\n",
        "  return V\n",
        "\n",
        "def K_js(E,v,a,K_s,YS, planestrain=True):\n",
        "  #see BS7910 R3.3 to estimate Kj_s\n",
        "  if planestrain:\n",
        "    E=E/(1-v**2)\n",
        "    beta = 3\n",
        "  else:\n",
        "    E=E\n",
        "    beta =1\n",
        "\n",
        "  a_eff= a+(1/(2*np.pi*beta))*(K_s/YS)**2\n",
        "  K_js=np.sqrt(a_eff/a)*K_s\n",
        "  # NB: may be non-conservative for significant stresses parallel to the flaw location\n",
        "  # i.e. longitudinal RS and significant beam bend stresses\n",
        "  return K_js"
      ],
      "execution_count": 0,
      "outputs": []
    },
    {
      "metadata": {
        "id": "GWeZjPP_CePK",
        "colab_type": "text"
      },
      "cell_type": "markdown",
      "source": [
        "## Problem Definition"
      ]
    },
    {
      "metadata": {
        "id": "fwsVhbf_Cc8I",
        "colab_type": "code",
        "outputId": "29c64d5c-0cb6-4d76-e7a6-429782ff73bb",
        "colab": {
          "base_uri": "https://localhost:8080/",
          "height": 677
        }
      },
      "cell_type": "code",
      "source": [
        "# Calculate the reference stress\n",
        "refStress = refStress_semiellsurfplate(a, c, B, W, Pm, Pb, pinned=False)\n",
        "\n",
        "# Determine Lr for plastic collapse\n",
        "Lr=refStress/YS_weld\n",
        "\n",
        "# Calculate the stress intensity at crack depth position A and crack ends position B\n",
        "  # Primary\n",
        "[KA_p, KB_p]=SIF_semi_ell_plate(a, c, B, W, Pm, Pb, primary=True)\n",
        "\n",
        "  #Secondary\n",
        "[KA_s, KB_s]=SIF_semi_ell_plate(a, c, B, W, Qm, Qb, primary=False)\n",
        "\n",
        "K_p = np.maximum(KA_p,KB_p)\n",
        "K_s = np.maximum(KA_s,KB_s)\n",
        " \n",
        "# Calculate plastic intereaction parameter V  \n",
        "V  = plasticity_interaction(K_p, K_s, Lr)\n",
        "\n",
        "# Calculate Kr adjusted for plasticity interaction\n",
        "Kr = (K_p+V*K_s)/Kmat\n",
        "\n",
        "results=pd.DataFrame({'a':a,'c':c,'refStress':refStress,'K_p':K_p,'K_s':K_s,'V':V,'Lr':Lr,'Kr':Kr})\n",
        "results"
      ],
      "execution_count": 11,
      "outputs": [
        {
          "output_type": "execute_result",
          "data": {
            "text/html": [
              "<div>\n",
              "<style scoped>\n",
              "    .dataframe tbody tr th:only-of-type {\n",
              "        vertical-align: middle;\n",
              "    }\n",
              "\n",
              "    .dataframe tbody tr th {\n",
              "        vertical-align: top;\n",
              "    }\n",
              "\n",
              "    .dataframe thead th {\n",
              "        text-align: right;\n",
              "    }\n",
              "</style>\n",
              "<table border=\"1\" class=\"dataframe\">\n",
              "  <thead>\n",
              "    <tr style=\"text-align: right;\">\n",
              "      <th></th>\n",
              "      <th>K_p</th>\n",
              "      <th>K_s</th>\n",
              "      <th>Kr</th>\n",
              "      <th>Lr</th>\n",
              "      <th>V</th>\n",
              "      <th>a</th>\n",
              "      <th>c</th>\n",
              "      <th>refStress</th>\n",
              "    </tr>\n",
              "  </thead>\n",
              "  <tbody>\n",
              "    <tr>\n",
              "      <th>0</th>\n",
              "      <td>10.544261</td>\n",
              "      <td>33.390138</td>\n",
              "      <td>0.356803</td>\n",
              "      <td>0.368925</td>\n",
              "      <td>1.114390</td>\n",
              "      <td>0.003</td>\n",
              "      <td>0.003000</td>\n",
              "      <td>169.705627</td>\n",
              "    </tr>\n",
              "    <tr>\n",
              "      <th>1</th>\n",
              "      <td>12.041658</td>\n",
              "      <td>38.131844</td>\n",
              "      <td>0.413549</td>\n",
              "      <td>0.427482</td>\n",
              "      <td>1.135717</td>\n",
              "      <td>0.003</td>\n",
              "      <td>0.005211</td>\n",
              "      <td>196.641630</td>\n",
              "    </tr>\n",
              "    <tr>\n",
              "      <th>2</th>\n",
              "      <td>14.634906</td>\n",
              "      <td>46.343690</td>\n",
              "      <td>0.508719</td>\n",
              "      <td>0.474221</td>\n",
              "      <td>1.153363</td>\n",
              "      <td>0.003</td>\n",
              "      <td>0.007421</td>\n",
              "      <td>218.141511</td>\n",
              "    </tr>\n",
              "    <tr>\n",
              "      <th>3</th>\n",
              "      <td>16.575362</td>\n",
              "      <td>52.488308</td>\n",
              "      <td>0.581982</td>\n",
              "      <td>0.512391</td>\n",
              "      <td>1.168185</td>\n",
              "      <td>0.003</td>\n",
              "      <td>0.009632</td>\n",
              "      <td>235.700078</td>\n",
              "    </tr>\n",
              "    <tr>\n",
              "      <th>4</th>\n",
              "      <td>18.129363</td>\n",
              "      <td>57.409087</td>\n",
              "      <td>0.641954</td>\n",
              "      <td>0.544152</td>\n",
              "      <td>1.180799</td>\n",
              "      <td>0.003</td>\n",
              "      <td>0.011842</td>\n",
              "      <td>250.310106</td>\n",
              "    </tr>\n",
              "    <tr>\n",
              "      <th>5</th>\n",
              "      <td>19.459996</td>\n",
              "      <td>61.622472</td>\n",
              "      <td>0.694068</td>\n",
              "      <td>0.570993</td>\n",
              "      <td>1.191658</td>\n",
              "      <td>0.003</td>\n",
              "      <td>0.014053</td>\n",
              "      <td>262.656769</td>\n",
              "    </tr>\n",
              "    <tr>\n",
              "      <th>6</th>\n",
              "      <td>20.671025</td>\n",
              "      <td>65.457037</td>\n",
              "      <td>0.741877</td>\n",
              "      <td>0.593974</td>\n",
              "      <td>1.201100</td>\n",
              "      <td>0.003</td>\n",
              "      <td>0.016263</td>\n",
              "      <td>273.228212</td>\n",
              "    </tr>\n",
              "    <tr>\n",
              "      <th>7</th>\n",
              "      <td>21.823542</td>\n",
              "      <td>69.106238</td>\n",
              "      <td>0.787514</td>\n",
              "      <td>0.613873</td>\n",
              "      <td>1.209384</td>\n",
              "      <td>0.003</td>\n",
              "      <td>0.018474</td>\n",
              "      <td>282.381622</td>\n",
              "    </tr>\n",
              "    <tr>\n",
              "      <th>8</th>\n",
              "      <td>22.949474</td>\n",
              "      <td>72.671164</td>\n",
              "      <td>0.832117</td>\n",
              "      <td>0.631270</td>\n",
              "      <td>1.216709</td>\n",
              "      <td>0.003</td>\n",
              "      <td>0.020684</td>\n",
              "      <td>290.384383</td>\n",
              "    </tr>\n",
              "    <tr>\n",
              "      <th>9</th>\n",
              "      <td>24.062767</td>\n",
              "      <td>76.195976</td>\n",
              "      <td>0.876192</td>\n",
              "      <td>0.646610</td>\n",
              "      <td>1.223230</td>\n",
              "      <td>0.003</td>\n",
              "      <td>0.022895</td>\n",
              "      <td>297.440633</td>\n",
              "    </tr>\n",
              "    <tr>\n",
              "      <th>10</th>\n",
              "      <td>25.167330</td>\n",
              "      <td>79.693039</td>\n",
              "      <td>0.919886</td>\n",
              "      <td>0.660237</td>\n",
              "      <td>1.229074</td>\n",
              "      <td>0.003</td>\n",
              "      <td>0.025105</td>\n",
              "      <td>303.708916</td>\n",
              "    </tr>\n",
              "    <tr>\n",
              "      <th>11</th>\n",
              "      <td>26.262035</td>\n",
              "      <td>83.158781</td>\n",
              "      <td>0.963163</td>\n",
              "      <td>0.672422</td>\n",
              "      <td>1.234339</td>\n",
              "      <td>0.003</td>\n",
              "      <td>0.027316</td>\n",
              "      <td>309.314239</td>\n",
              "    </tr>\n",
              "    <tr>\n",
              "      <th>12</th>\n",
              "      <td>27.343635</td>\n",
              "      <td>86.582908</td>\n",
              "      <td>1.005909</td>\n",
              "      <td>0.683384</td>\n",
              "      <td>1.239106</td>\n",
              "      <td>0.003</td>\n",
              "      <td>0.029526</td>\n",
              "      <td>314.356497</td>\n",
              "    </tr>\n",
              "    <tr>\n",
              "      <th>13</th>\n",
              "      <td>28.408332</td>\n",
              "      <td>89.953395</td>\n",
              "      <td>1.047984</td>\n",
              "      <td>0.693297</td>\n",
              "      <td>1.243444</td>\n",
              "      <td>0.003</td>\n",
              "      <td>0.031737</td>\n",
              "      <td>318.916473</td>\n",
              "    </tr>\n",
              "    <tr>\n",
              "      <th>14</th>\n",
              "      <td>29.452568</td>\n",
              "      <td>93.258965</td>\n",
              "      <td>1.089259</td>\n",
              "      <td>0.702305</td>\n",
              "      <td>1.247408</td>\n",
              "      <td>0.003</td>\n",
              "      <td>0.033947</td>\n",
              "      <td>323.060202</td>\n",
              "    </tr>\n",
              "    <tr>\n",
              "      <th>15</th>\n",
              "      <td>30.473359</td>\n",
              "      <td>96.490164</td>\n",
              "      <td>1.129622</td>\n",
              "      <td>0.710527</td>\n",
              "      <td>1.251043</td>\n",
              "      <td>0.003</td>\n",
              "      <td>0.036158</td>\n",
              "      <td>326.842193</td>\n",
              "    </tr>\n",
              "    <tr>\n",
              "      <th>16</th>\n",
              "      <td>31.468393</td>\n",
              "      <td>99.639673</td>\n",
              "      <td>1.168987</td>\n",
              "      <td>0.718061</td>\n",
              "      <td>1.254389</td>\n",
              "      <td>0.003</td>\n",
              "      <td>0.038368</td>\n",
              "      <td>330.307831</td>\n",
              "    </tr>\n",
              "    <tr>\n",
              "      <th>17</th>\n",
              "      <td>32.436017</td>\n",
              "      <td>102.702249</td>\n",
              "      <td>1.207292</td>\n",
              "      <td>0.724990</td>\n",
              "      <td>1.257478</td>\n",
              "      <td>0.003</td>\n",
              "      <td>0.040579</td>\n",
              "      <td>333.495216</td>\n",
              "    </tr>\n",
              "    <tr>\n",
              "      <th>18</th>\n",
              "      <td>33.375156</td>\n",
              "      <td>105.674490</td>\n",
              "      <td>1.244494</td>\n",
              "      <td>0.731384</td>\n",
              "      <td>1.260340</td>\n",
              "      <td>0.003</td>\n",
              "      <td>0.042789</td>\n",
              "      <td>336.436566</td>\n",
              "    </tr>\n",
              "    <tr>\n",
              "      <th>19</th>\n",
              "      <td>34.285230</td>\n",
              "      <td>108.554551</td>\n",
              "      <td>1.280571</td>\n",
              "      <td>0.737303</td>\n",
              "      <td>1.262998</td>\n",
              "      <td>0.003</td>\n",
              "      <td>0.045000</td>\n",
              "      <td>339.159310</td>\n",
              "    </tr>\n",
              "  </tbody>\n",
              "</table>\n",
              "</div>"
            ],
            "text/plain": [
              "          K_p         K_s        Kr        Lr         V      a         c  \\\n",
              "0   10.544261   33.390138  0.356803  0.368925  1.114390  0.003  0.003000   \n",
              "1   12.041658   38.131844  0.413549  0.427482  1.135717  0.003  0.005211   \n",
              "2   14.634906   46.343690  0.508719  0.474221  1.153363  0.003  0.007421   \n",
              "3   16.575362   52.488308  0.581982  0.512391  1.168185  0.003  0.009632   \n",
              "4   18.129363   57.409087  0.641954  0.544152  1.180799  0.003  0.011842   \n",
              "5   19.459996   61.622472  0.694068  0.570993  1.191658  0.003  0.014053   \n",
              "6   20.671025   65.457037  0.741877  0.593974  1.201100  0.003  0.016263   \n",
              "7   21.823542   69.106238  0.787514  0.613873  1.209384  0.003  0.018474   \n",
              "8   22.949474   72.671164  0.832117  0.631270  1.216709  0.003  0.020684   \n",
              "9   24.062767   76.195976  0.876192  0.646610  1.223230  0.003  0.022895   \n",
              "10  25.167330   79.693039  0.919886  0.660237  1.229074  0.003  0.025105   \n",
              "11  26.262035   83.158781  0.963163  0.672422  1.234339  0.003  0.027316   \n",
              "12  27.343635   86.582908  1.005909  0.683384  1.239106  0.003  0.029526   \n",
              "13  28.408332   89.953395  1.047984  0.693297  1.243444  0.003  0.031737   \n",
              "14  29.452568   93.258965  1.089259  0.702305  1.247408  0.003  0.033947   \n",
              "15  30.473359   96.490164  1.129622  0.710527  1.251043  0.003  0.036158   \n",
              "16  31.468393   99.639673  1.168987  0.718061  1.254389  0.003  0.038368   \n",
              "17  32.436017  102.702249  1.207292  0.724990  1.257478  0.003  0.040579   \n",
              "18  33.375156  105.674490  1.244494  0.731384  1.260340  0.003  0.042789   \n",
              "19  34.285230  108.554551  1.280571  0.737303  1.262998  0.003  0.045000   \n",
              "\n",
              "     refStress  \n",
              "0   169.705627  \n",
              "1   196.641630  \n",
              "2   218.141511  \n",
              "3   235.700078  \n",
              "4   250.310106  \n",
              "5   262.656769  \n",
              "6   273.228212  \n",
              "7   282.381622  \n",
              "8   290.384383  \n",
              "9   297.440633  \n",
              "10  303.708916  \n",
              "11  309.314239  \n",
              "12  314.356497  \n",
              "13  318.916473  \n",
              "14  323.060202  \n",
              "15  326.842193  \n",
              "16  330.307831  \n",
              "17  333.495216  \n",
              "18  336.436566  \n",
              "19  339.159310  "
            ]
          },
          "metadata": {
            "tags": []
          },
          "execution_count": 11
        }
      ]
    },
    {
      "metadata": {
        "id": "fS0R042ETwFD",
        "colab_type": "text"
      },
      "cell_type": "markdown",
      "source": [
        "###Check for plasticity interaction effects"
      ]
    },
    {
      "metadata": {
        "id": "1VNNpHmhJtqL",
        "colab_type": "code",
        "outputId": "be19f315-0ddf-4f3c-8108-b69a4aed04b1",
        "colab": {
          "base_uri": "https://localhost:8080/",
          "height": 558
        }
      },
      "cell_type": "code",
      "source": [
        "Interaction_ratio=K_s/(K_p/Lr)\n",
        "plt.figure(figsize=(10, 8))\n",
        "# plot interaction ratio\n",
        "plt.subplot(2,2,1)\n",
        "plt.plot(a*c, Interaction_ratio,'o', label='K_s/(K_p/Lr)')\n",
        "plt.plot([0, max(a*c)], [4, 4], color='r', linestyle='-', linewidth=2)\n",
        "plt.xlabel('a.c $[mm^2]$')\n",
        "plt.ylabel(r'$\\dfrac{K_s}{K_p/L_r}$')\n",
        "#plt.xlim(0,1.5)\n",
        "#plt.ylim(0,8)\n",
        "\n",
        "# plot plasticity correction multiplier V\n",
        "V=plasticity_interaction(K_p, K_s, Lr)\n",
        "plt.subplot (2,2,2)\n",
        "plt.plot(a*c,V,'o')\n",
        "plt.xlabel('a.c $[mm^2]$')\n",
        "plt.ylabel('V')\n",
        "\n",
        "#plot estimated K_sj\n",
        "K_js=K_js(E,v,a,K_s,YS_weld, planestrain=True)\n",
        "plt.subplot(2,2,3)\n",
        "plt.plot(a*c,K_js,'o')\n",
        "plt.xlabel('$K_s$')\n",
        "plt.ylabel('$K_j^{s}$')\n",
        "\n",
        "plt.suptitle('Plasticity Interaction')\n",
        "plt.show()\n"
      ],
      "execution_count": 12,
      "outputs": [
        {
          "output_type": "display_data",
          "data": {
            "image/png": "[encoded data removed]",
            "text/plain": [
              "<Figure size 720x576 with 3 Axes>"
            ]
          },
          "metadata": {
            "tags": []
          }
        }
      ]
    },
    {
      "metadata": {
        "id": "nlSgFUOmLEUx",
        "colab_type": "text"
      },
      "cell_type": "markdown",
      "source": [
        "##Assessment"
      ]
    },
    {
      "metadata": {
        "id": "jNGA94B9Cc8R",
        "colab_type": "code",
        "outputId": "0ef1efda-866b-477b-85ac-2bb2f3e25649",
        "colab": {
          "base_uri": "https://localhost:8080/",
          "height": 733
        }
      },
      "cell_type": "code",
      "source": [
        "[FAD_Lr, FAD_Kr] =FAD_1(E,YS_weld,UTS_weld,de=0.01, discon_yield=True)\n",
        "#print(FAD_Lr, FAD_Kr)\n",
        "plt.figure(figsize=(16, 12))\n",
        "plt.plot(FAD_Lr, FAD_Kr, label='OPTION 1 FAD')\n",
        "\n",
        "plt.plot(Lr, Kr, 'o', label='assessment point')\n",
        "plt.xlabel('Plastic Collapse - $L_r$')\n",
        "plt.ylabel('Brittle Fracture - $K_r$')\n",
        "\n",
        "plt.title('Failure Assessment Diagram with Discontinuous Yielding')\n",
        "\n",
        "if np.isscalar(a):\n",
        "  a_an=c*1000\n",
        "  plt.text(0.2,0.5,'a = ' + str(a*1000)+'mm ; c varying')\n",
        "else:\n",
        "  a_an=a*1000\n",
        "  plt.text(0.2,0.5,'c = ' + str(c*1000)+'mm ; a varying')\n",
        "for i, x,y in zip(a_an,Lr, Kr):                                       \n",
        "    plt.annotate('%.4s' %i, xy=(x,y), xytext=(-20, 20),\n",
        "        textcoords='offset points', ha='right', va='bottom',\n",
        "        bbox=dict(boxstyle='round,pad=0.5', fc='yellow', alpha=0.5),\n",
        "        arrowprops=dict(arrowstyle = '->', connectionstyle='arc3,rad=0')) \n",
        "plt.legend()\n",
        "# for the minor ticks, use no labels; default NullFormatter\n",
        "\n",
        "plt.show()"
      ],
      "execution_count": 13,
      "outputs": [
        {
          "output_type": "display_data",
          "data": {
            "image/png": "[encoded data removed]",
            "text/plain": [
              "<Figure size 1152x864 with 1 Axes>"
            ]
          },
          "metadata": {
            "tags": []
          }
        }
      ]
    },
    {
      "metadata": {
        "id": "PslA6IIACc8V",
        "colab_type": "code",
        "colab": {}
      },
      "cell_type": "code",
      "source": [
        ""
      ],
      "execution_count": 0,
      "outputs": []
    },
    {
      "metadata": {
        "id": "H7SiQTHECc8b",
        "colab_type": "code",
        "colab": {}
      },
      "cell_type": "code",
      "source": [
        ""
      ],
      "execution_count": 0,
      "outputs": []
    }
  ]
}